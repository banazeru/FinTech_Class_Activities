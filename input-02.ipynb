{
 "cells": [
  {
   "cell_type": "code",
   "execution_count": null,
   "metadata": {},
   "outputs": [],
   "source": [
    "# Declare a variable of `name` with an input and a string of \"Welcome to the Boba Shop! What is your name?\".\n",
    "name = input(\"Welcome to the Boba Shop! What is your name?\")\n",
    "\n",
    "# Check if `name` is not an empty string or equal to `None`.\n",
    "if name != \"\" or name == \"None\":\n",
    "    # If so, write a print with a string of \"Hello\" concatenated with the variable `name`.\n",
    "    print(f\"Hello {name}\")\n",
    "\n",
    "    # Then, declare a variable of `beverage` with an input and a string of \"What kind of boba drink would you like?\".\n",
    "\n",
    "beverage = input(\"What kind of boba drink would like?\")\n",
    "    # Then, Declare a variable of `sweetness` with an input and a string of \"How sweet do you want your drink: 0, 50, 100, or 200?\".\n",
    "\n",
    "sweetness = input(\"How sweet do you want your drink: 0, 50, 100, or 200?\")\n",
    "\n",
    "if sweetness == 50:\n",
    "    sweetness = \"half sweetened\"\n",
    "elif sweetness == 100:\n",
    "    sweetness = \"normal sweet\"\n",
    "elif sweetness == 200:\n",
    "    sweetness = \"super sweet\"\n",
    "else: sweetness = \"non-sweet\"\n",
    "    print(f\"Your order of {beverage} boba with a sweetness level of {sweetness}\")\n",
    "else:\n",
    "    print(f\"You didn't give us your name! Goodbye\")\n",
    "    \n"
   ]
  }
 ],
 "metadata": {
  "kernelspec": {
   "display_name": "Python 3",
   "language": "python",
   "name": "python3"
  },
  "language_info": {
   "codemirror_mode": {
    "name": "ipython",
    "version": 3
   },
   "file_extension": ".py",
   "mimetype": "text/x-python",
   "name": "python",
   "nbconvert_exporter": "python",
   "pygments_lexer": "ipython3",
   "version": "3.7.6"
  }
 },
 "nbformat": 4,
 "nbformat_minor": 4
}
