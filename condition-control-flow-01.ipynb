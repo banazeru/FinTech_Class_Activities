{
 "cells": [
  {
   "cell_type": "code",
   "execution_count": 13,
   "metadata": {},
   "outputs": [
    {
     "name": "stdout",
     "output_type": "stream",
     "text": [
      "This animal is neither Godzilla nor Mothra!\n",
      "See Spot run!\n",
      "I drive Farley around San Francisco in my Prius.\n",
      "You're total cost is 4250\n",
      "The rent is too damn high!\n"
     ]
    }
   ],
   "source": [
    "# Create a list called 'farm' with the elements \"pig\", \"cow\", \"chicken\", \"dog\", \"horse\", \"sheep\".\n",
    "farm = [\"pig\", \"cow\", \"chicken\", \"dog\", \"horse\", \"sheep\"]\n",
    "\n",
    "# Write an if statement that prints the string \"RWAR!\" if the first element of farm is NOT \"Godzilla\".\n",
    "if farm[2] == \"Godzilla\": print(\"RWAR!\")\n",
    "\n",
    "# Write an else if statement that prints the string \"SCREECH!\" if the last element of farm is \"Mothra\".\n",
    "elif farm [4] == \"Mothra\": print(\"SCREECH\")\n",
    "# Else, print the string \"This animal is neither Godzilla nor Mothra!\".\n",
    "else: print(\"This animal is neither Godzilla nor Mothra!\")\n",
    "\n",
    "# Declare a variable named 'dog' with a string of \"Spot\".\n",
    "\n",
    "dog = \"Spot\"\n",
    "# Declare 3 variables `cat`, `city`, `car` without assigning them values.\n",
    "cat = \"\"\n",
    "city = \"\"\n",
    "car = \"\"\n",
    "\n",
    "# Assign the string \"Farley\" to `cat`.\n",
    "\n",
    "cat = \"Farley\"\n",
    "\n",
    "# Assign the string \"San Francisco\" to `city`.\n",
    "\n",
    "city = \"San Francisco\"\n",
    "\n",
    "# Assign the string \"Prius\" to `car`.\n",
    "\n",
    "car = \"Prius\"\n",
    "\n",
    "# Using string concatenation, print out the sentence \"See Spot run!\".\n",
    "\n",
    "print(f\"See {dog} run!\")\n",
    "\n",
    "# Using string concatenation, print out the sentence \"I drive Farley around San Francisco in my Prius\".\n",
    "\n",
    "print(f\"I drive {cat} around {city} in my {car}.\")\n",
    "\n",
    "# Declare a variable budget and assign it a value of 5000.\n",
    "\n",
    "budget= 5000\n",
    "\n",
    "# Declare a variable rent_cost and assign it a value of 1500.\n",
    "\n",
    "rent_cost = 1500\n",
    "\n",
    "# Declare a variable utilities_cost and assign it a value of 150.\n",
    "\n",
    "utilities_cost = 150\n",
    "\n",
    "# Declare a variable food_cost and assign it a value of 250.\n",
    "\n",
    "food_cost = 250\n",
    "\n",
    "# Declare a variable transportation_cost and assign it a value of 350.\n",
    "\n",
    "transportation_cost = 350\n",
    "\n",
    "# Declare a variable computer_cost and assign it a value of 2000.\n",
    "\n",
    "computer_cost = 2000\n",
    "\n",
    "# Declare a variable called total_cost that takes the sum of all costs above (excluding budget).\n",
    "\n",
    "total_cost = computer_cost + rent_cost+ utilities_cost + food_cost + transportation_cost\n",
    "\n",
    "# Write an if statement that checks whether the sum of all our costs is within the budget.\n",
    "# If so, print \"You're total cost is \" concatentated with the `total_cost` variable.\n",
    "# Else, print \"You're over budget by \" concatenated with the difference between `budget` and `total_cost`.\n",
    "if budget > total_cost: print(f\"You're total cost is {total_cost}\")\n",
    "else: print(f\"You're over budget by {budget} - {total_cost}\")\n",
    "# Write an if statement that checks whether the rent_cost is larger than the sum of the `utilities_cost`, `food_cost`,\n",
    "# and `transportation_cost`. If so, print a string that says \"The rent is too damn high!\".\n",
    "# Else, print a string that says \"Ahhh just right!\"\n",
    "if rent_cost > (utilities_cost + food_cost + transportation_cost): print(f\"The rent is too damn high!\")\n",
    "else: print(f\"Ahh just right!\")"
   ]
  },
  {
   "cell_type": "code",
   "execution_count": null,
   "metadata": {},
   "outputs": [],
   "source": []
  },
  {
   "cell_type": "code",
   "execution_count": null,
   "metadata": {},
   "outputs": [],
   "source": []
  }
 ],
 "metadata": {
  "kernelspec": {
   "display_name": "Python 3",
   "language": "python",
   "name": "python3"
  },
  "language_info": {
   "codemirror_mode": {
    "name": "ipython",
    "version": 3
   },
   "file_extension": ".py",
   "mimetype": "text/x-python",
   "name": "python",
   "nbconvert_exporter": "python",
   "pygments_lexer": "ipython3",
   "version": "3.7.6"
  }
 },
 "nbformat": 4,
 "nbformat_minor": 4
}
